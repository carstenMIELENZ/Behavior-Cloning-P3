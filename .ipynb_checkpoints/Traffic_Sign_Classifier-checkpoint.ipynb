{
 "cells": [
  {
   "cell_type": "code",
   "execution_count": null,
   "metadata": {
    "collapsed": true
   },
   "outputs": [],
   "source": [
    "# Self-Driving Car Engineer Nanodegree\n",
    "\n",
    "## Deep Learning\n",
    "\n",
    "## Project: Build a Traffic Sign Recognition Classifier\n",
    "\n",
    "In this notebook, a template is provided for you to implement your functionality in stages, which is required to successfully complete this project. If additional code is required that cannot be included in the notebook, be sure that the Python code is successfully imported and included in your submission if necessary. \n",
    "\n",
    "> **Note**: Once you have completed all of the code implementations, you need to finalize your work by exporting the iPython Notebook as an HTML document. Before exporting the notebook to html, all of the code cells need to have been run so that reviewers can see the final implementation and output. You can then export the notebook by using the menu above and navigating to  \\n\",\n",
    "    \"**File -> Download as -> HTML (.html)**. Include the finished document along with this notebook as your submission. \n",
    "\n",
    "In addition to implementing code, there is a writeup to complete. The writeup should be completed in a separate file, which can be either a markdown file or a pdf document. There is a [write up template](https://github.com/udacity/CarND-Traffic-Sign-Classifier-Project/blob/master/writeup_template.md) that can be used to guide the writing process. Completing the code template and writeup template will cover all of the [rubric points](https://review.udacity.com/#!/rubrics/481/view) for this project.\n",
    "\n",
    "The [rubric](https://review.udacity.com/#!/rubrics/481/view) contains \"Stand Out Suggestions\" for enhancing the project beyond the minimum requirements. The stand out suggestions are optional. If you decide to pursue the \"stand out suggestions\", you can include the code in this Ipython notebook and also discuss the results in the writeup file.\n",
    "\n",
    "\n",
    ">**Note:** Code and Markdown cells can be executed using the **Shift + Enter** keyboard shortcut. In addition, Markdown cells can be edited by typically double-clicking the cell to enter edit mode."
   ]
  },
  {
   "cell_type": "markdown",
   "metadata": {},
   "source": [
    "---\n",
    "## Step 0: Load The Data\n"
   ]
  },
  {
   "cell_type": "code",
   "execution_count": null,
   "metadata": {
    "collapsed": true
   },
   "outputs": [],
   "source": [
    "# Load pickled data\n",
    "import pickle\n",
    "\n",
    "# TODO: Fill this in based on where you saved the training and testing data\n",
    "training_file = './TrafficSigns/train.p'\n",
    "testing_file = './TrafficSigns/test.p'\n",
    "\n",
    "with open(training_file, mode='rb') as f:\n",
    "    train = pickle.load(f)\n",
    "with open(testing_file, mode='rb') as f:\n",
    "    test = pickle.load(f)\n",
    "        \n",
    "X_train, y_train = train['features'], train['labels']\n",
    "X_test,   y_test =  test['features'],  test['labels']\n",
    "\n",
    "# Debug info\n",
    "print()\n",
    "print(\"(debug) Size of Training & Validation data:\",len(X_train))\n",
    "print(\"(debug) Size of Test data:                 \",len(X_test))"
   ]
  },
  {
   "cell_type": "markdown",
   "metadata": {},
   "source": [
    "---\n",
    "\n",
    "## Step 1: Dataset Summary & Exploration\n",
    "\n",
    "The pickled data is a dictionary with 4 key/value pairs:\n",
    "\n",
    "- `'features'` is a 4D array containing raw pixel data of the traffic sign images, (num examples, width, height, channels).\n",
    "- `'labels'` is a 1D array containing the label/class id of the traffic sign. The file `signnames.csv` contains id -> name mappings for each id.\n",
    "- `'sizes'` is a list containing tuples, (width, height) representing the original width and height the image.\n",
    "- `'coords'` is a list containing tuples, (x1, y1, x2, y2) representing coordinates of a bounding box around the sign in the image. **THESE COORDINATES ASSUME THE ORIGINAL IMAGE. THE PICKLED DATA CONTAINS RESIZED VERSIONS (32 by 32) OF THESE IMAGES**\n",
    "\n",
    "Complete the basic data summary below. Use python, numpy and/or pandas methods to calculate the data summary rather than hard coding the results. For example, the [pandas shape method](http://pandas.pydata.org/pandas-docs/stable/generated/pandas.DataFrame.shape.html) might be useful for calculating some of the summary results. "
   ]
  },
  {
   "cell_type": "markdown",
   "metadata": {},
   "source": [
    "### Provide a Basic Summary of the Data Set Using Python, Numpy and/or Pandas"
   ]
  },
  {
   "cell_type": "markdown",
   "metadata": {},
   "source": [
    "#### A) Size & shape analysis of given dataset and generation for validation-set\n",
    "The validation-set is splitted from the original trainings-set by 20%."
   ]
  },
  {
   "cell_type": "code",
   "execution_count": null,
   "metadata": {
    "collapsed": true
   },
   "outputs": [],
   "source": [
    "### Replace each question mark with the appropriate value. \n",
    "### Use python, pandas or numpy methods rather than hard coding the results\n",
    "\n",
    "import numpy as np\n",
    "from sklearn.model_selection import train_test_split\n",
    "\n",
    "# Get randomized datasets for training and validation\n",
    "X_train, X_validation, y_train, y_validation = train_test_split(X_train, y_train,test_size=0.2,random_state=0)\n",
    "\n",
    "# Number of training examples\n",
    "n_train = len(X_train)\n",
    "\n",
    "# Number of validation examples\n",
    "n_validation = len(X_validation)\n",
    "\n",
    "# Number of testing examples.\n",
    "n_test = len(X_test)\n",
    "\n",
    "# What's the shape of an traffic sign image?\n",
    "image_shape = X_train[0].shape\n",
    "\n",
    "# How many unique classes/labels there are in the dataset.\n",
    "n_classes = len(np.unique(y_train))\n",
    "\n",
    "# print\n",
    "print()\n",
    "print(\"Number of training examples   =\", n_train)\n",
    "print(\"number of validation examples =\", n_validation)\n",
    "print(\"Number of testing examples    =\", n_test)\n",
    "print(\"Image data shape              =\", image_shape)\n",
    "print(\"Number of classes             =\", n_classes)"
   ]
  },
  {
   "cell_type": "markdown",
   "metadata": {},
   "source": [
    "Visualize the German Traffic Signs Dataset using the pickled file(s). This is open ended, suggestions include: plotting traffic sign images, plotting the count of each sign, etc. \n",
    "\n",
    "The [Matplotlib](http://matplotlib.org/) [examples](http://matplotlib.org/examples/index.html) and [gallery](http://matplotlib.org/gallery.html) pages are a great resource for doing visualizations in Python.\n",
    "\n",
    "**NOTE:** It's recommended you start with something simple first. If you wish to do more, come back to it after you've completed the rest of the sections. It can be interesting to look at the distribution of classes in the training, validation and test set. Is the distribution the same? Are there more examples of some classes than others?"
   ]
  },
  {
   "cell_type": "markdown",
   "metadata": {},
   "source": [
    "#### B) Analysis of the distribution of the training-set, validation-set and test-set"
   ]
  },
  {
   "cell_type": "code",
   "execution_count": null,
   "metadata": {
    "collapsed": true
   },
   "outputs": [],
   "source": [
    "import matplotlib.pyplot as plt\n",
    "%matplotlib inline\n",
    "\n",
    "print ()\n",
    "print (\"Data distributions of training, validation and test sets\")\n",
    "print ()\n",
    "\n",
    "# Show distribrution of training data\n",
    "data, number = np.unique(y_train,return_counts=True)\n",
    "plt.rcParams[\"figure.figsize\"] = [10, 3]\n",
    "axes = plt.gca()\n",
    "axes.set_xlim([-1,n_classes])\n",
    "plt.bar(data, number, tick_label=data, width=0.8, align='center')\n",
    "plt.title('distribution of training data')\n",
    "plt.show()\n",
    "\n",
    "# Show distribution of validation data\n",
    "data, number = np.unique(y_validation,return_counts=True)\n",
    "plt.rcParams[\"figure.figsize\"] = [10, 3]\n",
    "axes = plt.gca()\n",
    "axes.set_xlim([-1,n_classes])\n",
    "plt.bar(data, number, tick_label=data, width=0.8, align='center')\n",
    "plt.title('distribution of validation data')\n",
    "plt.show()\n",
    "\n",
    "# Show distribution of test data\n",
    "data, number = np.unique(y_test,return_counts=True)\n",
    "plt.rcParams[\"figure.figsize\"] = [10, 3]\n",
    "axes = plt.gca()\n",
    "axes.set_xlim([-1,n_classes])\n",
    "plt.bar(data, number, tick_label=data, width=0.8, align='center')\n",
    "plt.title('distribution of test data')\n",
    "plt.show()"
   ]
  },
  {
   "cell_type": "markdown",
   "metadata": {},
   "source": [
    "#### C) Visualization of training-set images"
   ]
  },
  {
   "cell_type": "code",
   "execution_count": null,
   "metadata": {
    "collapsed": true
   },
   "outputs": [],
   "source": [
    "import random\n",
    "import numpy as np\n",
    "import matplotlib.pyplot as plt\n",
    "%matplotlib inline\n",
    "\n",
    "\n",
    "# Print 4 random pics of training data\n",
    "print ()\n",
    "print ('Display 4 random training pics examples (title represents the class id)')\n",
    "\n",
    "# Save random numbers & pics for further steps\n",
    "pic = np.zeros(4,dtype=int)\n",
    "plt.figure(figsize=(10, 7))\n",
    "\n",
    "# Plot images\n",
    "for i in range(4) :\n",
    "    pic[i] = random.randint(0, len(X_train))\n",
    "    image = X_train[pic[i]]\n",
    "    plt.subplot(4,4,i+1)\n",
    "    plt.imshow(image)\n",
    "    plt.title(y_train[pic[i]])\n",
    "    \n",
    "plt.tight_layout()\n",
    "plt.show()\n",
    "\n",
    "# Save pic random numbers\n",
    "pic_save = np.array(pic,dtype=int)"
   ]
  },
  {
   "cell_type": "markdown",
   "metadata": {},
   "source": [
    "----\n",
    "\n",
    "## Step 2: Design and Test a Model Architecture\n",
    "\n",
    "Design and implement a deep learning model that learns to recognize traffic signs. Train and test your model on the [German Traffic Sign Dataset](http://benchmark.ini.rub.de/?section=gtsrb&subsection=dataset).\n",
    "\n",
    "The LeNet-5 implementation shown in the [classroom](https://classroom.udacity.com/nanodegrees/nd013/parts/fbf77062-5703-404e-b60c-95b78b2f3f9e/modules/6df7ae49-c61c-4bb2-a23e-6527e69209ec/lessons/601ae704-1035-4287-8b11-e2c2716217ad/concepts/d4aca031-508f-4e0b-b493-e7b706120f81) at the end of the CNN lesson is a solid starting point. You'll have to change the number of classes and possibly the preprocessing, but aside from that it's plug and play! \n",
    "\n",
    "With the LeNet-5 solution from the lecture, you should expect a validation set accuracy of about 0.89. To meet specifications, the validation set accuracy will need to be at least 0.93. It is possible to get an even higher accuracy, but 0.93 is the minimum for a successful project submission. \n",
    "\n",
    "There are various aspects to consider when thinking about this problem:\n",
    "\n",
    "- Neural network architecture (is the network over or underfitting?)\n",
    "- Play around preprocessing techniques (normalization, rgb to grayscale, etc)\n",
    "- Number of examples per label (some have more than others).\n",
    "- Generate fake data.\n",
    "\n",
    "Here is an example of a [published baseline model on this problem](http://yann.lecun.com/exdb/publis/pdf/sermanet-ijcnn-11.pdf). It's not required to be familiar with the approach used in the paper but, it's good practice to try to read papers like these."
   ]
  },
  {
   "cell_type": "markdown",
   "metadata": {},
   "source": [
    "### Pre-process the Data Set (normalization, grayscale, etc.)"
   ]
  },
  {
   "cell_type": "markdown",
   "metadata": {},
   "source": [
    "Minimally, the image data should be normalized so that the data has mean zero and equal variance. For image data, `(pixel - 128)/ 128` is a quick way to approximately normalize the data and can be used in this project. \n",
    "\n",
    "Other pre-processing steps are optional. You can try different techniques to see if it improves performance. \n",
    "\n",
    "Use the code cell (or multiple code cells, if necessary) to implement the first step of your project."
   ]
  },
  {
   "cell_type": "markdown",
   "metadata": {},
   "source": [
    "#### A) Preprossing functions: normalize_input, processRGBpics\n",
    "* func. normalize_input, normalizes input image data by pixel - 128)/ 128 => [-1,+1] normalization\n",
    "* func. processRGBpics, converts color images to grayscale ones and performs a image/pixel normalization (see above)"
   ]
  },
  {
   "cell_type": "code",
   "execution_count": 1,
   "metadata": {
    "collapsed": true
   },
   "outputs": [],
   "source": [
    "# Normalize function    \n",
    "def normalize_input(image) :\n",
    "    return (image-128.0)/128\n",
    "\n",
    "# ProcessRGBpics function coverts to grayscale and normalizes the image (-1,1) style by (pixel - 128)/ 128 \n",
    "def processRGBpics(x):\n",
    "    output = np.average(x, axis=3)\n",
    "    output = np.expand_dims(output, axis=3)\n",
    "    output =  normalize_input(output)\n",
    "    return output"
   ]
  },
  {
   "cell_type": "markdown",
   "metadata": {},
   "source": [
    "#### (CAUTION) TRAINING SET CIFAR - DONT USE THIS CODE BELOW WHEN RUNNING GERMAN SIGNS"
   ]
  },
  {
   "cell_type": "code",
   "execution_count": 2,
   "metadata": {},
   "outputs": [
    {
     "name": "stderr",
     "output_type": "stream",
     "text": [
      "Using TensorFlow backend.\n"
     ]
    },
    {
     "name": "stdout",
     "output_type": "stream",
     "text": [
      "\n",
      "debug: loading cifar data set ...\n",
      "debug: generating train and validation set ...\n",
      "debug: pre-processign CIFAR data-set...\n"
     ]
    }
   ],
   "source": [
    "from keras.datasets import cifar10\n",
    "(X_train, y_train), (X_test, y_test) = cifar10.load_data()\n",
    "# y_train.shape is 2d, (50000, 1). While Keras is smart enough to handle this\n",
    "# it's a good idea to flatten the array.\n",
    "y_train = y_train.reshape(-1)\n",
    "y_test = y_test.reshape(-1)\n",
    "\n",
    "print ()\n",
    "print ('debug: loading cifar data set ...')\n",
    "\n",
    "from sklearn.model_selection import train_test_split\n",
    "X_train, X_valid, y_train, y_valid = train_test_split(X_train, y_train, test_size=0.3, random_state=42, stratify = y_train)\n",
    "print ('debug: generating train and validation set ...')\n",
    "\n",
    "import numpy as np\n",
    "\n",
    "x_training   = processRGBpics(X_train)\n",
    "x_validation = processRGBpics(X_valid)\n",
    "print ('debug: pre-processign CIFAR data-set...')\n",
    "\n",
    "# adapt naming for y \n",
    "y_validation = y_valid"
   ]
  },
  {
   "cell_type": "markdown",
   "metadata": {},
   "source": [
    "#### B) Pre-processing of training-set, validation-set and test-set data"
   ]
  },
  {
   "cell_type": "code",
   "execution_count": null,
   "metadata": {
    "collapsed": true
   },
   "outputs": [],
   "source": [
    "# Process training, validation and test data (grayscale + normalization)\n",
    "x_training   = processRGBpics(X_train)\n",
    "x_validation = processRGBpics(X_validation)\n",
    "x_test       = processRGBpics(X_test)\n"
   ]
  },
  {
   "cell_type": "markdown",
   "metadata": {},
   "source": [
    "#### C) Visualization of pre-processed training-set images"
   ]
  },
  {
   "cell_type": "code",
   "execution_count": null,
   "metadata": {
    "collapsed": true
   },
   "outputs": [],
   "source": [
    "# Plot the processed pics\n",
    "print ()\n",
    "print ('Display the 4 random training pics examples from before - processed (title represents the class id)')\n",
    "\n",
    "plt.figure(figsize=(10, 7))\n",
    "\n",
    "# Plot processed images\n",
    "for i in range(len(pic_save)) :\n",
    "    image = np.reshape(x_training[pic_save[i]],(32,32))\n",
    "    plt.subplot(4,4,i+1)\n",
    "    plt.imshow(image,cmap = plt.get_cmap('gray'))\n",
    "    plt.title(y_train[pic_save[i]])\n",
    "\n",
    "plt.tight_layout()\n",
    "plt.show()   "
   ]
  },
  {
   "cell_type": "markdown",
   "metadata": {},
   "source": [
    "#### D) Augmentation - Fake Image Generation\n",
    "In order to increase the training-set random images are generated fromm the original training set.\n",
    "The following random actions are performed on the orignal images in order to create a \"fake/new\" image:\n",
    "1. width & height movements by +/-10%\n",
    "2. rotation +/-15 degrees\n",
    "3. zoom out/in by 90%/110%\n",
    "\n",
    "The ImageDataGenerator from the keras enviroment is used to create the fake images."
   ]
  },
  {
   "cell_type": "code",
   "execution_count": null,
   "metadata": {
    "collapsed": true
   },
   "outputs": [],
   "source": [
    "import keras\n",
    "from keras.preprocessing.image import ImageDataGenerator\n",
    "\n",
    "# Setup image manipultion generator from keras\n",
    "datagen = ImageDataGenerator(rotation_range = 30, width_shift_range = 0.11, height_shift_range = 0.11, zoom_range = 0.2)\n",
    "\n",
    "# Size of fake data\n",
    "BATCH     = 1000                    # batch size generator\n",
    "RUN       = 3                       # number of runs\n",
    "EXIT      = int(len(y_train)/BATCH) # exit loops criteria\n",
    "\n",
    "x_fake =np.zeros((BATCH*EXIT*RUN,32,32,3))\n",
    "y_fake =np.zeros(BATCH*EXIT*RUN,dtype=np.int)\n",
    "\n",
    "print (\"(debug) Fake images generation started\")\n",
    "\n",
    "for u in range (RUN):\n",
    "    i = 0\n",
    "    k = u * EXIT * BATCH\n",
    "    print ('(debug) loop',u,'of',BATCH*EXIT,'runs ...')\n",
    "    datagen = ImageDataGenerator(rotation_range = 30, width_shift_range = 0.10, height_shift_range = 0.10, zoom_range = 0.2)\n",
    "    for x_, y_ in datagen.flow(X_train, y_train, batch_size = BATCH):\n",
    "        start = k + i * BATCH\n",
    "        end   = start + BATCH \n",
    "        y_fake[start:end] = np.copy(y_)\n",
    "        x_fake[start:end] = np.copy(x_) \n",
    "\n",
    "        i = i + 1\n",
    "        if (i>EXIT-1) :\n",
    "            break\n",
    "    \n",
    "                   \n",
    "print (\"(debug) Fake images generated !\")"
   ]
  },
  {
   "cell_type": "markdown",
   "metadata": {},
   "source": [
    "#### D1) Visualization of generated fake images"
   ]
  },
  {
   "cell_type": "code",
   "execution_count": null,
   "metadata": {
    "collapsed": true
   },
   "outputs": [],
   "source": [
    "# Plot 4 random fake images\n",
    "print ()\n",
    "print ('Display the 4 random fake pics examples (title represents the class id)')\n",
    "\n",
    "\n",
    "# Save random numbers & pics for further steps\n",
    "pic_f = np.zeros(4,dtype=int)\n",
    "plt.figure(figsize=(10, 7))\n",
    "\n",
    "# Plot images\n",
    "for i in range(4) :\n",
    "    pic_f[i] = random.randint(0, len(x_fake))\n",
    "    image = x_fake[pic_f[i]]\n",
    "    plt.subplot(4,4,i+1)\n",
    "    plt.imshow(image)\n",
    "    plt.title(y_fake[pic_f[i]])\n",
    "    \n",
    "plt.tight_layout()\n",
    "plt.show()\n",
    "\n",
    "# Save pic random numbers\n",
    "pic_f_save = np.array(pic_f,dtype=int)"
   ]
  },
  {
   "cell_type": "markdown",
   "metadata": {},
   "source": [
    "#### D2) Pre-process augmented images"
   ]
  },
  {
   "cell_type": "code",
   "execution_count": null,
   "metadata": {
    "collapsed": true
   },
   "outputs": [],
   "source": [
    "# Process fake image data (grayscale + normalization)\n",
    "\n",
    "x_training_f   = processRGBpics(x_fake)\n"
   ]
  },
  {
   "cell_type": "markdown",
   "metadata": {},
   "source": [
    "#### D3) Visualization of pre-processed augmented images"
   ]
  },
  {
   "cell_type": "code",
   "execution_count": null,
   "metadata": {
    "collapsed": true
   },
   "outputs": [],
   "source": [
    "# Plot the processed pics\n",
    "print ()\n",
    "print ('Display the 4 random fake pics examples from before - processed (title represents the class id)')\n",
    "\n",
    "plt.figure(figsize=(10, 7))\n",
    "\n",
    "# Plot processed images\n",
    "for i in range(len(pic_f_save)) :\n",
    "    image = np.reshape(x_training_f[pic_f_save[i]],(32,32))\n",
    "    plt.subplot(4,4,i+1)\n",
    "    plt.imshow(image,cmap = plt.get_cmap('gray'))\n",
    "    plt.title(y_fake[pic_f_save[i]])\n",
    "\n",
    "plt.tight_layout()\n",
    "plt.show()   "
   ]
  },
  {
   "cell_type": "markdown",
   "metadata": {},
   "source": [
    "#### D5) Add the augmented images to the training-set"
   ]
  },
  {
   "cell_type": "code",
   "execution_count": null,
   "metadata": {
    "collapsed": true
   },
   "outputs": [],
   "source": [
    "# Join fake data to training data (training data = orginal data + fake data)\n",
    "print ()\n",
    "print ('(debug) Adding fake data with size =',len(y_fake),'to training data with size=',len(y_train))\n",
    "print ('(debug) New training set size =',(len(y_fake)+len(y_train))  )\n",
    "print ()\n",
    "\n",
    "x_training = np.concatenate((x_training, x_training_f))\n",
    "y_train    = np.concatenate((y_train, y_fake))"
   ]
  },
  {
   "cell_type": "markdown",
   "metadata": {},
   "source": [
    "#### D6) Analysis of the distribution of the training-set after adding augmented images"
   ]
  },
  {
   "cell_type": "code",
   "execution_count": null,
   "metadata": {
    "collapsed": true
   },
   "outputs": [],
   "source": [
    "# Display distribution of new data\n",
    "print ()\n",
    "print (\"Data distributions of training after joining in fake data\")\n",
    "print ()\n",
    "\n",
    "data, number = np.unique(y_train,return_counts=True)\n",
    "plt.rcParams[\"figure.figsize\"] = [10, 3]\n",
    "axes = plt.gca()\n",
    "axes.set_xlim([-1,n_classes])\n",
    "plt.bar(data, number, tick_label=data, width=0.8, align='center')\n",
    "plt.title('distribution of training data = orginal + augmented')\n",
    "plt.show()\n"
   ]
  },
  {
   "cell_type": "markdown",
   "metadata": {},
   "source": [
    "#### D7) Model Architecture based on LeNet architecture"
   ]
  },
  {
   "cell_type": "code",
   "execution_count": 3,
   "metadata": {
    "collapsed": true
   },
   "outputs": [],
   "source": [
    "from sklearn.utils import shuffle\n",
    "# shuffle training data\n",
    "x_training, y_train = shuffle(x_training, y_train)"
   ]
  },
  {
   "cell_type": "markdown",
   "metadata": {},
   "source": [
    "#### D7.1) Model functions & Parameters"
   ]
  },
  {
   "cell_type": "code",
   "execution_count": 8,
   "metadata": {
    "collapsed": true
   },
   "outputs": [],
   "source": [
    "### Define your architecture here.\n",
    "### Feel free to use as many code cells as needed.\n",
    "import tensorflow as tf\n",
    "from tensorflow.contrib.layers import flatten\n",
    "\n",
    "\n",
    "# training parameters global\n",
    "EPOCHS = 30\n",
    "BATCH_SIZE = 128\n",
    "\n",
    "# Random variables\n",
    "mu = 0\n",
    "sigma = 0.1\n",
    "\n",
    "\n",
    "def conv1_activation(x) :\n",
    "\n",
    "    #SOLUTION: Layer 1: Convolutional. Input = 32x32x1. Output = 30x30x15.\n",
    "    conv1_W = tf.Variable(tf.truncated_normal(shape=(3, 3, 1, 15), mean = mu, stddev = sigma), name = 'conv1_W')\n",
    "    conv1_b = tf.Variable(tf.zeros(15), name = 'conv1_b')\n",
    "    conv1   = tf.nn.conv2d(x, conv1_W, strides=[1, 1, 1, 1], padding='VALID') + conv1_b    \n",
    "    # SOLUTION: Activation.\n",
    "    conv1 = tf.nn.relu(conv1)    \n",
    "    return conv1\n",
    "\n",
    "\n",
    "def conv1_subsample(x) :\n",
    "\n",
    "    # SOLUTION: Pooling. Input = 30x30x15. Output = 15x15x15\n",
    "    conv1 = tf.nn.max_pool(x, ksize=[1, 2, 2, 1], strides=[1, 2, 2, 1], padding='VALID')\n",
    "    return conv1\n",
    "\n",
    "\n",
    "def conv2_activation(x):\n",
    "\n",
    "    # SOLUTION: Layer 2: Convolutional. Output = 11x11x16.\n",
    "    conv2_W = tf.Variable(tf.truncated_normal(shape=(5, 5, 15, 16), mean = mu, stddev = sigma),name = 'conv2_W')\n",
    "    conv2_b = tf.Variable(tf.zeros(16), name = 'conv2_b')\n",
    "    conv2   = tf.nn.conv2d(x, conv2_W, strides=[1, 1, 1, 1], padding='VALID') + conv2_b\n",
    "    # SOLUTION: Activation.\n",
    "    conv2 = tf.nn.relu(conv2)\n",
    "    return conv2\n",
    "\n",
    "\n",
    "def conv2_subsample(x):\n",
    "    \n",
    "    # SOLUTION: Pooling. Input = 11x11x16. Output = 5x5x16.\n",
    "    conv2 = tf.nn.max_pool(x, ksize=[1, 2, 2, 1], strides=[1, 2, 2, 1], padding='VALID')\n",
    "    return conv2\n",
    "\n",
    "\n",
    "def fc0_conv1_subsample(x):\n",
    "\n",
    "    # SOLUTION: Pooling. Input = 15x15x15. Output = 7x7x15\n",
    "    sub1   = tf.nn.max_pool(x, ksize=[1, 2, 2, 1], strides=[1, 2, 2, 1], padding='VALID') \n",
    "    return sub1\n",
    "\n",
    "\n",
    "def fc0_net(x,y):\n",
    "\n",
    "    fc0   = tf.concat([flatten(y),flatten(x)],1)\n",
    "    return fc0\n",
    "\n",
    "\n",
    "def fc1_net(x):\n",
    "\n",
    "    # SOLUTION: Layer 3: Fully Connected. Input = 400 + 735 = 1135. Output = 120.\n",
    "    fc1_W = tf.Variable(tf.truncated_normal(shape=(1135, 120), mean = mu, stddev = sigma), name = 'fc1_W')#\n",
    "    fc1_b = tf.Variable(tf.zeros(120), name = 'fc1_b')\n",
    "    fc1   = tf.matmul(x, fc1_W) + fc1_b\n",
    "    \n",
    "    # SOLUTION: Activation.\n",
    "    fc1    = tf.nn.relu(fc1)\n",
    "    return fc1\n",
    "\n",
    "\n",
    "def fc2_net(x):\n",
    "\n",
    "    # SOLUTION: Layer 4: Fully Connected. Input = 120. Output = 84.\n",
    "    fc2_W  = tf.Variable(tf.truncated_normal(shape=(120, 84), mean = mu, stddev = sigma), name = 'fc2_W')\n",
    "    fc2_b  = tf.Variable(tf.zeros(84), name = 'fc2_b')\n",
    "    fc2    = tf.matmul(x, fc2_W) + fc2_b\n",
    "    \n",
    "    # SOLUTION: Activation.\n",
    "    fc2    = tf.nn.relu(fc2)\n",
    "    return fc2\n",
    "\n",
    "\n",
    "def LeNet(x):    \n",
    "\n",
    "    # SOLUTION: Layer 5: Fully Connected. Input = 84. Output = 43 ## Output = 10 for CIFAR\n",
    "    #fc3_W  = tf.Variable(tf.truncated_normal(shape=(84, 43), mean = mu, stddev = sigma), name = 'fc3_W')\n",
    "    #fc3_b  = tf.Variable(tf.zeros(43), name = 'fc3_b')\n",
    "    fc3_W  = tf.Variable(tf.truncated_normal(shape=(84, 10), mean = mu, stddev = sigma), name = 'fc3_W')\n",
    "    fc3_b  = tf.Variable(tf.zeros(10), name = 'fc3_b')\n",
    "    logits = tf.matmul(x, fc3_W) + fc3_b    \n",
    "    return logits\n",
    "\n",
    "\n",
    "\n"
   ]
  },
  {
   "cell_type": "markdown",
   "metadata": {},
   "source": [
    "A validation set can be used to assess how well the model is performing. A low accuracy on the training and validation\n",
    "sets imply underfitting. A high accuracy on the training set but low accuracy on the validation set implies overfitting."
   ]
  },
  {
   "cell_type": "markdown",
   "metadata": {},
   "source": [
    "#### D8) Model Intantiation"
   ]
  },
  {
   "cell_type": "code",
   "execution_count": 9,
   "metadata": {
    "collapsed": true
   },
   "outputs": [],
   "source": [
    "### Train your model here.\n",
    "### Calculate and report the accuracy on the training and validation set.\n",
    "### Once a final model architecture is selected, \n",
    "### the accuracy on the test set should be calculated and reported as well.\n",
    "### Feel free to use as many code cells as needed.\n",
    "\n",
    "x = tf.placeholder(tf.float32, (None, 32, 32, 1))  # color map\n",
    "y = tf.placeholder(tf.int32, (None))\n",
    "one_hot_y = tf.one_hot(y, 10)                      # 43 feautres CIFAR\n",
    "#one_hot_y = tf.one_hot(y, 43)                      # 43 feautres\n",
    "\n",
    "\n",
    "rate = 0.001\n",
    "\n",
    "# model network\n",
    "conv1_act       = conv1_activation(x)\n",
    "conv1_sub       = conv1_subsample(conv1_act)\n",
    "conv2_act       = conv2_activation(conv1_sub)\n",
    "conv2_sub       = conv2_subsample(conv2_act)\n",
    "fc0_conv1_sub   = fc0_conv1_subsample(conv1_sub)\n",
    "fc0             = fc0_net(fc0_conv1_sub,conv2_sub) \n",
    "fc1             = fc1_net(fc0)\n",
    "fc2             = fc2_net(fc1)\n",
    "logits          = LeNet(fc2)\n",
    "\n",
    "\n",
    "cross_entropy = tf.nn.softmax_cross_entropy_with_logits(labels=one_hot_y, logits=logits)\n",
    "loss_operation = tf.reduce_mean(cross_entropy)\n",
    "optimizer = tf.train.AdamOptimizer(learning_rate = rate)\n",
    "training_operation = optimizer.minimize(loss_operation)\n",
    "\n",
    "\n",
    "# evaluate\n",
    "correct_prediction = tf.equal(tf.argmax(logits, 1), tf.argmax(one_hot_y, 1))\n",
    "accuracy_operation = tf.reduce_mean(tf.cast(correct_prediction, tf.float32))"
   ]
  },
  {
   "cell_type": "markdown",
   "metadata": {},
   "source": [
    "#### D9) Mode Saver & Evaluation function"
   ]
  },
  {
   "cell_type": "code",
   "execution_count": 10,
   "metadata": {
    "collapsed": true
   },
   "outputs": [],
   "source": [
    "saver = tf.train.Saver()\n",
    "\n",
    "def evaluate(X_data, y_data):\n",
    "    num_examples = len(X_data)\n",
    "    total_accuracy = 0\n",
    "    sess = tf.get_default_session() \n",
    "    for offset in range(0, num_examples, BATCH_SIZE):\n",
    "        batch_x, batch_y = X_data[offset:offset+BATCH_SIZE], y_data[offset:offset+BATCH_SIZE]\n",
    "        accuracy = sess.run(accuracy_operation, feed_dict={x: batch_x, y: batch_y})\n",
    "        total_accuracy += (accuracy * len(batch_x))\n",
    "    return total_accuracy / num_examples"
   ]
  },
  {
   "cell_type": "markdown",
   "metadata": {},
   "source": [
    "#### D10) Train model"
   ]
  },
  {
   "cell_type": "code",
   "execution_count": null,
   "metadata": {},
   "outputs": [
    {
     "name": "stdout",
     "output_type": "stream",
     "text": [
      "Training...\n",
      "\n",
      "EPOCH 1 ...\n",
      "Training   Accuracy = 0.488\n",
      "Validation Accuracy = 0.476\n",
      "\n"
     ]
    }
   ],
   "source": [
    "from datetime import datetime\n",
    "\n",
    "# run session\n",
    "with tf.Session() as sess:\n",
    "    sess.run(tf.global_variables_initializer())\n",
    "    num_examples = len(x_training) # independent \n",
    "    v_accuracy = np.zeros(EPOCHS)\n",
    "    v_training = np.zeros(EPOCHS)\n",
    "    \n",
    "    print(\"Training...\")\n",
    "    print()\n",
    "    \n",
    "    start_time = datetime.now() # start timer \n",
    "    \n",
    "    for i in range(EPOCHS):\n",
    "        x_training, y_train = shuffle(x_training, y_train)\n",
    "                \n",
    "        for offset in range(0, num_examples, BATCH_SIZE):\n",
    "            end = offset + BATCH_SIZE\n",
    "            batch_x, batch_y = x_training[offset:end], y_train[offset:end]\n",
    "            sess.run(training_operation, feed_dict={x: batch_x, y: batch_y})\n",
    "        \n",
    "        training_accuracy = evaluate (x_training, y_train)\n",
    "        v_training[i] = training_accuracy\n",
    "        \n",
    "        validation_accuracy = evaluate(x_validation, y_validation)\n",
    "        v_accuracy[i] = validation_accuracy    \n",
    "                \n",
    "        print(\"EPOCH {} ...\".format(i+1))\n",
    "        print(\"Training   Accuracy = {:.3f}\".format(training_accuracy))   # this is perf. inefficient\n",
    "        print(\"Validation Accuracy = {:.3f}\".format(validation_accuracy))\n",
    "        print()\n",
    "      \n",
    "        #v_test = evaluate (x_test, y_test)\n",
    "        \n",
    "    print(\"Test       Accuracy = {:.3f}\".format(v_test))\n",
    "    \n",
    "    saver.save(sess, './CIFAR-custom-lenet')\n",
    "    \n",
    "    print(\"Run time =\",datetime.now()-start_time) # performance\n",
    "    print()\n",
    "    \n",
    "    print(\"Model saved\")"
   ]
  },
  {
   "cell_type": "markdown",
   "metadata": {},
   "source": [
    "### Train, Validate and Test the Model"
   ]
  },
  {
   "cell_type": "markdown",
   "metadata": {},
   "source": [
    "### Include an exploratory visualization of the dataset"
   ]
  },
  {
   "cell_type": "markdown",
   "metadata": {},
   "source": [
    "#### A) Visualization of trainings and validation accuracy vs. number of epchos "
   ]
  },
  {
   "cell_type": "code",
   "execution_count": null,
   "metadata": {
    "collapsed": true
   },
   "outputs": [],
   "source": [
    "# Plot accuracies\n",
    "plt.figure(figsize=(26, 10))\n",
    "plt.subplot(221)\n",
    "plt.title('Training & Validation Accuracy',fontsize=14)\n",
    "    \n",
    "plt.plot(range(1,EPOCHS+1),(v_accuracy),  'ro')\n",
    "plt.plot(range(1,EPOCHS+1),(v_accuracy),  'r-')\n",
    "plt.plot(range(1,EPOCHS+1),(v_training),  'b--')\n",
    "    \n",
    "#plt.text(1,3,'Validation Accuracy',color='red',fontsize=8)\n",
    "    \n",
    "plt.axis([1, EPOCHS, 0, 1.0])\n",
    "plt.xticks(np.arange(1, EPOCHS+1, 1))\n",
    "plt.grid()\n",
    "plt.xlabel('Epochs',fontsize=12)\n",
    "plt.ylabel('Accuracy',fontsize=12)\n",
    "plt.text(2,0.2,'Training Accuracy',color='blue',fontsize=12)\n",
    "plt.text(2,0.15,'Validation Accuracy',color='red',fontsize=12)\n",
    "plt.text(2,0.1,'Test Accuracy',color='black',fontsize=12)\n",
    "plt.text(20,0.1,v_test,color='black',fontsize=12)\n",
    "plt.tight_layout()\n",
    "plt.show()"
   ]
  },
  {
   "cell_type": "markdown",
   "metadata": {},
   "source": [
    "---\n",
    "\n",
    "## Step 3: Test a Model on New Images\n",
    "\n",
    "To give yourself more insight into how your model is working, download at least five pictures of German traffic signs from the web and use your model to predict the traffic sign type.\n",
    "\n",
    "You may find `signnames.csv` useful as it contains mappings from the class id (integer) to the actual sign name."
   ]
  },
  {
   "cell_type": "markdown",
   "metadata": {},
   "source": [
    "### Load and Output the Images"
   ]
  },
  {
   "cell_type": "markdown",
   "metadata": {},
   "source": [
    "#### A) Helper array to map class label type ID to traffic signs names "
   ]
  },
  {
   "cell_type": "code",
   "execution_count": null,
   "metadata": {
    "collapsed": true
   },
   "outputs": [],
   "source": [
    "### Traffic Sign Nsme Mapping function\n",
    "import numpy as np\n",
    "\n",
    "with open('signnames.csv') as f:\n",
    "    content = f.read().splitlines()\n",
    "\n",
    "sign_names = []\n",
    "# Map to array\n",
    "for i in range (1,len(content),1) :\n",
    "    name = content[i].split(',')\n",
    "    sign_names.append(name[1])"
   ]
  },
  {
   "cell_type": "markdown",
   "metadata": {},
   "source": [
    "#### B) Load 16 traffic sign images from the WWW and visualize these\n",
    "The file name of each image codes the traffic sign class label inside the name: sign_[name].[class type ID].jpg"
   ]
  },
  {
   "cell_type": "code",
   "execution_count": null,
   "metadata": {
    "collapsed": true
   },
   "outputs": [],
   "source": [
    "### Load the images and plot them here.\n",
    "### Feel free to use as many code cells as needed.\n",
    "import os\n",
    "import matplotlib.pyplot as plt\n",
    "import matplotlib.image as mpimg\n",
    "\n",
    "# pics location\n",
    "location = \"test_examples.new.good/\"\n",
    "test_dir = os.listdir(location)\n",
    "\n",
    "pic_features  = []\n",
    "pic_labels    = []\n",
    "\n",
    "\n",
    "# plot pics\n",
    "plt.figure(figsize=(10, 7))\n",
    "\n",
    "i = 0\n",
    "for pics in test_dir :\n",
    "    # read image file\n",
    "    fname  = location + pics\n",
    "    image = mpimg.imread(fname)\n",
    "    name  = pics.split('.')\n",
    "    # build list   \n",
    "    pic_features.append(image)\n",
    "    pic_labels.append(name[1])\n",
    "    # print \n",
    "    #print (pics.shape)\n",
    "    #print (pics)\n",
    "    # show\n",
    "    sub = plt.subplot(5,4,i+1)\n",
    "    plt.imshow(image)\n",
    "    plt.title(pics)\n",
    "    i = i + 1\n",
    "    \n",
    "        \n",
    "print ()\n",
    "print (\"(debug)\",i, \"traffic sign images from the WWW\")\n",
    "print ()\n",
    "    \n",
    "    \n",
    "plt.tight_layout()\n",
    "plt.show()\n",
    "\n",
    "# pre-process pics for prediction\n",
    "newfeatures   = processRGBpics(np.array(pic_features))\n",
    "newlabels     = np.array(pic_labels,dtype=np.int)"
   ]
  },
  {
   "cell_type": "markdown",
   "metadata": {},
   "source": [
    "### Predict the Sign Type for Each Image"
   ]
  },
  {
   "cell_type": "markdown",
   "metadata": {},
   "source": [
    "#### C) Predict & visualize sign type prediction for each image (including indirect performance analysis)"
   ]
  },
  {
   "cell_type": "code",
   "execution_count": null,
   "metadata": {
    "collapsed": true
   },
   "outputs": [],
   "source": [
    "### Run the predictions here and use the model to output the prediction for each image.\n",
    "### Make sure to pre-process the images with the same pre-processing pipeline used earlier.\n",
    "### Feel free to use as many code cells as needed.\n",
    "\n",
    "import tensorflow as tf\n",
    "\n",
    "print ()\n",
    "print ('Sample pics prediction (right pic = original, left pic = used inside model')\n",
    "print ()\n",
    "\n",
    "# Run prediction on each pic\n",
    "i = 0\n",
    "for pics in newfeatures :\n",
    "    # run predcition with trained model\n",
    "    with tf.Session() as sess:\n",
    "        saver.restore(sess, tf.train.latest_checkpoint('.'))    \n",
    "        image = np.reshape(pics,(1,32,32,1))\n",
    "        prediction = sess.run(tf.argmax(logits,1), feed_dict={x: image})\n",
    "        # print prediction \n",
    "        print ('  SIGN:',sign_names[newlabels[i]] ,' PREDICTION:',sign_names[prediction[0]])\n",
    "        # plot images\n",
    "        plt.subplot(2,2,1)\n",
    "        plt.imshow(pic_features[i])\n",
    "        i = i + 1\n",
    "        plt.subplot(2,2,2)\n",
    "        ima= np.reshape(pics,(32,32))\n",
    "        plt.imshow(ima,cmap = plt.get_cmap('gray'))\n",
    "        plt.tight_layout()\n",
    "        plt.show()\n"
   ]
  },
  {
   "cell_type": "markdown",
   "metadata": {},
   "source": [
    "### Analyze Performance"
   ]
  },
  {
   "cell_type": "markdown",
   "metadata": {},
   "source": [
    "#### D) Performance analysis about the 16 traffic sign images from the WWW vs. model (prediction vs. real)"
   ]
  },
  {
   "cell_type": "code",
   "execution_count": null,
   "metadata": {
    "collapsed": true
   },
   "outputs": [],
   "source": [
    "# run prediction and accuracy on 16 traffic sign images from the WWW\n",
    "with tf.Session() as sess:\n",
    "    saver.restore(sess, tf.train.latest_checkpoint('.'))\n",
    "    # test accuracy on test-set\n",
    "    test_accuracy = evaluate(x_test, y_test)\n",
    "    print(\"(debug) Test accuracy = {:.3f}\".format(test_accuracy))\n",
    "    # accuracy analysis on 16 traffic signs from WWW\n",
    "    test_accuracy = evaluate(newfeatures, newlabels)\n",
    "    print(\"(debug) New pics accuracy = {:.3f}\".format(test_accuracy))\n",
    "    print(\"(debug) Prediction perf. analysis for new pics\".format(test_accuracy))\n",
    "    # performance analysis on 16 traffic signs from WWW\n",
    "    hits       = sess.run(correct_prediction,  feed_dict={x: newfeatures, y: newlabels})\n",
    "    prediction = sess.run(tf.argmax(logits,1), feed_dict={x: newfeatures})\n",
    "\n",
    "# visualize accuracy & performance\n",
    "# plot analysis vs. images\n",
    "plt.figure(figsize=(26, 10))\n",
    "plt.subplot(221)\n",
    "plt.title('Predicted vs. Real Class Id of Sample Pics')\n",
    "plt.plot(range(len(newlabels)), newlabels,  'bo')\n",
    "plt.plot(range(len(newlabels)), newlabels,  'b--')\n",
    "plt.text(1,5,'Real Class Id',color='blue',fontsize=8)\n",
    "plt.text(1,3,'Predicted Class Id',color='red',fontsize=8)\n",
    "plt.plot(range(len(newlabels)), prediction, 'r--')\n",
    "plt.axis([0, len(newlabels)-1, 0, 43])\n",
    "plt.xticks(np.arange(0, len(newlabels), 1))\n",
    "plt.grid()\n",
    "plt.xlabel('Pic Sample')\n",
    "plt.ylabel('Class Id')\n",
    "plt.show()\n",
    "\n",
    "# plot images\n",
    "i = 0\n",
    "plt.figure(figsize=(24, 6))\n",
    "for pics in pic_features :\n",
    "    if (i>=len(newlabels)) :\n",
    "        break\n",
    "    sub = plt.subplot(4,16,i+1)\n",
    "    sub.set_xticks(())\n",
    "    sub.set_yticks(())\n",
    "    plt.imshow(pics)\n",
    "    plt.title(hits[i],fontsize=30)\n",
    "    i = i + 1  \n",
    "plt.tight_layout()\n",
    "plt.show()\n",
    "    "
   ]
  },
  {
   "cell_type": "code",
   "execution_count": null,
   "metadata": {
    "collapsed": true
   },
   "outputs": [],
   "source": [
    "### Calculate the accuracy for these 5 new images. \n",
    "### For example, if the model predicted 1 out of 5 signs correctly, it's 20% accurate on these new images."
   ]
  },
  {
   "cell_type": "markdown",
   "metadata": {},
   "source": [
    "### Output Top 5 Softmax Probabilities For Each Image Found on the Web"
   ]
  },
  {
   "cell_type": "markdown",
   "metadata": {},
   "source": [
    "For each of the new images, print out the model's softmax probabilities to show the **certainty** of the model's predictions (limit the output to the top 5 probabilities for each image). [`tf.nn.top_k`](https://www.tensorflow.org/versions/r0.12/api_docs/python/nn.html#top_k) could prove helpful here. \n",
    "\n",
    "The example below demonstrates how tf.nn.top_k can be used to find the top k predictions for each image.\n",
    "\n",
    "`tf.nn.top_k` will return the values and indices (class ids) of the top k predictions. So if k=3, for each sign, it'll return the 3 largest probabilities (out of a possible 43) and the correspoding class ids.\n",
    "\n",
    "Take this numpy array as an example. The values in the array represent predictions. The array contains softmax probabilities for five candidate images with six possible classes. `tk.nn.top_k` is used to choose the three classes with the highest probability:\n",
    "\n",
    "```\n",
    "# (5, 6) array\n",
    "a = np.array([[ 0.24879643,  0.07032244,  0.12641572,  0.34763842,  0.07893497,\n",
    "         0.12789202],\n",
    "       [ 0.28086119,  0.27569815,  0.08594638,  0.0178669 ,  0.18063401,\n",
    "         0.15899337],\n",
    "       [ 0.26076848,  0.23664738,  0.08020603,  0.07001922,  0.1134371 ,\n",
    "         0.23892179],\n",
    "       [ 0.11943333,  0.29198961,  0.02605103,  0.26234032,  0.1351348 ,\n",
    "         0.16505091],\n",
    "       [ 0.09561176,  0.34396535,  0.0643941 ,  0.16240774,  0.24206137,\n",
    "         0.09155967]])\n",
    "```\n",
    "\n",
    "Running it through `sess.run(tf.nn.top_k(tf.constant(a), k=3))` produces:\n",
    "\n",
    "```\n",
    "TopKV2(values=array([[ 0.34763842,  0.24879643,  0.12789202],\n",
    "       [ 0.28086119,  0.27569815,  0.18063401],\n",
    "       [ 0.26076848,  0.23892179,  0.23664738],\n",
    "       [ 0.29198961,  0.26234032,  0.16505091],\n",
    "       [ 0.34396535,  0.24206137,  0.16240774]]), indices=array([[3, 0, 5],\n",
    "       [0, 1, 4],\n",
    "       [0, 5, 1],\n",
    "       [1, 3, 5],\n",
    "       [1, 4, 3]], dtype=int32))\n",
    "```\n",
    "\n",
    "Looking just at the first row we get `[ 0.34763842,  0.24879643,  0.12789202]`, you can confirm these are the 3 largest probabilities in `a`. You'll also notice `[3, 0, 5]` are the corresponding indices."
   ]
  },
  {
   "cell_type": "markdown",
   "metadata": {},
   "source": [
    "#### E) Analsis of top 5 probabilities of 16 traffic signs images from the WWW"
   ]
  },
  {
   "cell_type": "code",
   "execution_count": null,
   "metadata": {
    "collapsed": true
   },
   "outputs": [],
   "source": [
    "### Print out the top five softmax probabilities for the predictions on the German traffic sign images found on the web. \n",
    "### Feel free to use as many code cells as needed.\n",
    "\n",
    "# run softmax func. on trained model for the 16 traffic signs from the WWW\n",
    "with tf.Session() as sess:\n",
    "    saver.restore(sess, tf.train.latest_checkpoint('.'))\n",
    "    soft_top5 = sess.run(tf.nn.top_k(tf.nn.softmax(logits),k=5), feed_dict={x: newfeatures})\n",
    "    print ('Top 5 probabilities of the sample pics (first = original, second used @ model)')\n",
    "    print ()\n",
    "   \n",
    "# Plot analysis \n",
    "#sign_  = np.array(['123456789123456789123456789','123456789123456789123456789','123456789123456789123456789','123456789123456789123456789','123456789123456789123456789'])\n",
    "#prop_  = np.array([0.0, 0.0, 0.0, 0.0, 0.0])\n",
    "\n",
    "\n",
    "i = 0\n",
    "for pics in pic_features :\n",
    "    if (i>=len(newlabels)) :\n",
    "        break\n",
    "    \n",
    "    print ('SIGN:',sign_names[newlabels[i]],' RECOGNIZED:',hits[i])\n",
    "    \n",
    "    for u in range(5) :\n",
    "        print ('      top (',u+1,') {:.20f}'.format(soft_top5[0][i][u]), sign_names[soft_top5[1][i][u]])\n",
    "        #prop_[u]  = soft_top5[0][i][u]\n",
    "        #sign_[u]  = sign_names[soft_top5[1][i][u]]\n",
    "\n",
    "    plt.subplot(2,2,1)\n",
    "    plt.imshow(pics)\n",
    "    plt.subplot(2,2,2)\n",
    "    ima= np.reshape(newfeatures[i],(32,32))\n",
    "    plt.imshow(ima,cmap = plt.get_cmap('gray'))\n",
    "\n",
    "    #plt.subplot(2,2,3)\n",
    "    #y_pos = np.arange(len(sign_))\n",
    "    #plt.title('Top 5 Probabilities')\n",
    "    #plt.barh(y_pos,prop_,align='center',)\n",
    "    #plt.yticks(y_pos, sign_)\n",
    "    #plt.xticks(prop_)\n",
    "    #plt.xlabel(x_pos)\n",
    "    #plt.xticks(())\n",
    "    #plt.yticks(())\n",
    "    #plt.xlabel('Probability')\n",
    "                               \n",
    "                        \n",
    "    plt.tight_layout()\n",
    "    plt.show()\n",
    "    i = i + 1\n",
    "     "
   ]
  },
  {
   "cell_type": "markdown",
   "metadata": {},
   "source": [
    "### Project Writeup\n",
    "\n",
    "Once you have completed the code implementation, document your results in a project writeup using this [template](https://github.com/udacity/CarND-Traffic-Sign-Classifier-Project/blob/master/writeup_template.md) as a guide. The writeup can be in a markdown or pdf file. "
   ]
  },
  {
   "cell_type": "markdown",
   "metadata": {},
   "source": [
    "> **Note**: Once you have completed all of the code implementations and successfully answered each question above, you may finalize your work by exporting the iPython Notebook as an HTML document. You can do this by using the menu above and navigating to  \\n\",\n",
    "    \"**File -> Download as -> HTML (.html)**. Include the finished document along with this notebook as your submission."
   ]
  },
  {
   "cell_type": "code",
   "execution_count": null,
   "metadata": {
    "collapsed": true
   },
   "outputs": [],
   "source": [
    "---\n",
    "\n",
    "## Step 4 (Optional): Visualize the Neural Network's State with Test Images\n",
    "\n",
    " This Section is not required to complete but acts as an additional excersise for understaning the output of a neural network's weights. While neural networks can be a great learning device they are often referred to as a black box. We can understand what the weights of a neural network look like better by plotting their feature maps. After successfully training your neural network you can see what it's feature maps look like by plotting the output of the network's weight layers in response to a test stimuli image. From these plotted feature maps, it's possible to see what characteristics of an image the network finds interesting. For a sign, maybe the inner network feature maps react with high activation to the sign's boundary outline or to the contrast in the sign's painted symbol.\n",
    "\n",
    " Provided for you below is the function code that allows you to get the visualization output of any tensorflow weight layer you want. The inputs to the function should be a stimuli image, one used during training or a new one you provided, and then the tensorflow variable name that represents the layer's state during the training process, for instance if you wanted to see what the [LeNet lab's](https://classroom.udacity.com/nanodegrees/nd013/parts/fbf77062-5703-404e-b60c-95b78b2f3f9e/modules/6df7ae49-c61c-4bb2-a23e-6527e69209ec/lessons/601ae704-1035-4287-8b11-e2c2716217ad/concepts/d4aca031-508f-4e0b-b493-e7b706120f81) feature maps looked like for it's second convolutional layer you could enter conv2 as the tf_activation variable.\n",
    "\n",
    "For an example of what feature map outputs look like, check out NVIDIA's results in their paper [End-to-End Deep Learning for Self-Driving Cars](https://devblogs.nvidia.com/parallelforall/deep-learning-self-driving-cars/) in the section Visualization of internal CNN State. NVIDIA was able to show that their network's inner weights had high activations to road boundary lines by comparing feature maps from an image with a clear path to one without. Try experimenting with a similar test to show that your trained network's weights are looking for interesting features, whether it's looking at differences in feature maps from images with or without a sign, or even what feature maps look like in a trained network vs a completely untrained one on the same sign image.\n",
    "\n",
    "<figure>\n",
    " <img src=\"visualize_cnn.png\" width=\"380\" alt=\"Combined Image\" />\n",
    " <figcaption>\n",
    " <p></p> \n",
    " <p style=\"text-align: center;\"> Your output should look something like this (above)</p> \n",
    " </figcaption>\n",
    "</figure>\n",
    " <p></p> \n"
   ]
  },
  {
   "cell_type": "code",
   "execution_count": null,
   "metadata": {
    "collapsed": true
   },
   "outputs": [],
   "source": [
    "## Visualize your network's feature maps here.\n",
    "### Feel free to use as many code cells as needed.\n",
    "\n",
    "# image_input: the test image being fed into the network to produce the feature maps\n",
    "# tf_activation: should be a tf variable name used during your training procedure that represents the calculated state of a specific weight layer\n",
    "# activation_min/max: can be used to view the activation contrast in more detail, by default matplot sets min and max to the actual min and max values of the output\n",
    "# plt_num: used to plot out multiple different weight feature map sets on the same block, just extend the plt number for each new feature map entry\n",
    "\n",
    "#\n",
    "# WARNING: changed function outputFeatureMap in order to adapt model structure\n",
    "# + removed: image_input\n",
    "# + changed code line: <old> activation = tf_activation.eval(session=sess,feed_dict={x : image_input})\n",
    "#                      <new> activation = tf_activation\n",
    "\n",
    "#\n",
    "# <old> def outputFeatureMap(image_input, tf_activation, activation_min=-1, activation_max=-1 ,plt_num=1):\n",
    "#\n",
    "\n",
    "def outputFeatureMap(tf_activation, activation_min=-1, activation_max=-1 ,plt_num=1):\n",
    "    # Here make sure to preprocess your image_input in a way your network expects\n",
    "    # with size, normalization, ect if needed\n",
    "    # image_input =\n",
    "    # Note: x should be the same name as your network's tensorflow data placeholder variable\n",
    "    # If you get an error tf_activation is not defined it may be having trouble accessing the variable from inside a function\n",
    "    # <old> activation = tf_activation.eval(session=sess,feed_dict={x : image_input})\n",
    "    activation = tf_activation\n",
    "    featuremaps = activation.shape[3]\n",
    "    plt.figure(plt_num, figsize=(15,15))\n",
    "    for featuremap in range(featuremaps):\n",
    "        plt.subplot(6,8, featuremap+1) # sets the number of feature maps to show on each row and column\n",
    "        plt.title('FeatureMap ' + str(featuremap)) # displays the feature map number\n",
    "        if activation_min != -1 & activation_max != -1:\n",
    "            plt.imshow(activation[0,:,:, featuremap], interpolation=\"nearest\", vmin =activation_min, vmax=activation_max, cmap=\"gray\")\n",
    "        elif activation_max != -1:\n",
    "            plt.imshow(activation[0,:,:, featuremap], interpolation=\"nearest\", vmax=activation_max, cmap=\"gray\")\n",
    "        elif activation_min !=-1:\n",
    "            plt.imshow(activation[0,:,:, featuremap], interpolation=\"nearest\", vmin=activation_min, cmap=\"gray\")\n",
    "        else:\n",
    "            plt.imshow(activation[0,:,:, featuremap], interpolation=\"nearest\", cmap=\"gray\")\n",
    "            "
   ]
  },
  {
   "cell_type": "markdown",
   "metadata": {
    "collapsed": true
   },
   "source": [
    "#### A) Select input image for featuremap analysis, display\n",
    "Variable [image_id] specifies one image of 16 traffic sign images from the WWW"
   ]
  },
  {
   "cell_type": "code",
   "execution_count": null,
   "metadata": {
    "collapsed": true
   },
   "outputs": [],
   "source": [
    "# Image-Featuremaps to display \n",
    "image_id = 15\n",
    "\n",
    "print ()\n",
    "print ('Input image for featuremaps plot (left = original, right = used inside model')\n",
    "\n",
    "# Visualize input image\n",
    "plt.subplot(2,2,1)\n",
    "plt.imshow(pic_features[image_id])\n",
    "plt.subplot(2,2,2)\n",
    "im = np.reshape(newfeatures[image_id],(32,32))\n",
    "plt.imshow(im,cmap = plt.get_cmap('gray'))\n",
    "plt.tight_layout()\n",
    "plt.show()\n",
    "\n",
    "# Prepare image for featuremap display\n",
    "image = newfeatures[image_id]\n",
    "image = np.reshape(image,(1,32,32,1))"
   ]
  },
  {
   "cell_type": "markdown",
   "metadata": {},
   "source": [
    "#### B) Display featuremaps of model\n",
    "Following featuremaps are displayed:\n",
    "* conv1 with and without pooling\n",
    "* conv2 with and without pooling\n",
    "* 2nd pooling of conv1 which is feed fully connected network fc1 (multi-scale)   "
   ]
  },
  {
   "cell_type": "code",
   "execution_count": null,
   "metadata": {
    "collapsed": true
   },
   "outputs": [],
   "source": [
    "# Feature map visualization\n",
    "with tf.Session() as sess:\n",
    "    # restore session\n",
    "    saver.restore(sess, tf.train.latest_checkpoint('.'))\n",
    "    \n",
    "    # Visualize featuremap of conv1\n",
    "    print ()\n",
    "    print (\"Featuremap of conv1 network 30x30x15:\")\n",
    "    conv1_ = sess.run(conv1_act, feed_dict={x: image})\n",
    "    outputFeatureMap(conv1_)\n",
    "    plt.tight_layout()\n",
    "    plt.show()\n",
    "    \n",
    "    print ()\n",
    "    print (\"Featuremap of conv1 network after pooling 15x15x15:\")\n",
    "    conv1_sub_ = sess.run(conv1_sub, feed_dict={x: image})\n",
    "    outputFeatureMap(conv1_sub_)\n",
    "    plt.tight_layout()\n",
    "    plt.show()\n",
    "    \n",
    "    # Visualize featuremap of conv2\n",
    "    print ()\n",
    "    print (\"Featuremap of conv2 network 11x11x16:\")\n",
    "    conv2_ = sess.run(conv2_act, feed_dict={x: image})\n",
    "    outputFeatureMap(conv2_)\n",
    "    plt.tight_layout()\n",
    "    plt.show()\n",
    "    \n",
    "    print ()\n",
    "    print (\"Featuremap of conv2 network 5x5x16:\")\n",
    "    conv2_sub_ = sess.run(conv2_sub, feed_dict={x: image})\n",
    "    outputFeatureMap(conv2_sub_)\n",
    "    plt.tight_layout()\n",
    "    plt.show()\n",
    "    \n",
    "    print ()\n",
    "    print (\"Featuremap of conv1 network after 2. pooling 7x7x15 (feed to fc0):\")\n",
    "    fc0_conv1_sub_ = sess.run(fc0_conv1_sub, feed_dict={x: image})\n",
    "    outputFeatureMap(fc0_conv1_sub_)\n",
    "    plt.tight_layout()\n",
    "    plt.show()"
   ]
  },
  {
   "cell_type": "code",
   "execution_count": null,
   "metadata": {
    "collapsed": true
   },
   "outputs": [],
   "source": [
    "from keras.datasets import cifar10\n",
    "(X_train, y_train), (X_test, y_test) = cifar10.load_data()\n",
    "# y_train.shape is 2d, (50000, 1). While Keras is smart enough to handle this\n",
    "# it's a good idea to flatten the array.\n",
    "y_train = y_train.reshape(-1)\n",
    "y_test = y_test.reshape(-1)"
   ]
  },
  {
   "cell_type": "code",
   "execution_count": null,
   "metadata": {
    "collapsed": true
   },
   "outputs": [],
   "source": [
    "from sklearn.model_selection import train_test_split\n",
    "X_train, X_valid, y_train, y_valid = train_test_split(X_train, y_train, test_size=0.3, random_state=42, stratify = y_train)\n"
   ]
  },
  {
   "cell_type": "code",
   "execution_count": null,
   "metadata": {
    "collapsed": true
   },
   "outputs": [],
   "source": [
    "![processed image 0](./Picture0.jpg \"Original 0\")"
   ]
  },
  {
   "cell_type": "code",
   "execution_count": null,
   "metadata": {
    "collapsed": true
   },
   "outputs": [],
   "source": [
    "![processed image 1](./Picture1.jpg \"Original 1\")"
   ]
  },
  {
   "cell_type": "code",
   "execution_count": null,
   "metadata": {
    "collapsed": true
   },
   "outputs": [],
   "source": [
    "![processed image 2](./Picture2.jpg \"Original 2\")"
   ]
  },
  {
   "cell_type": "code",
   "execution_count": null,
   "metadata": {
    "collapsed": true
   },
   "outputs": [],
   "source": [
    "![processed image 3](./Picture3.jpg \"Original 3\")"
   ]
  },
  {
   "cell_type": "code",
   "execution_count": null,
   "metadata": {
    "collapsed": true
   },
   "outputs": [],
   "source": [
    "![processed image 4](./Picture4.jpg \"Original 4\")"
   ]
  },
  {
   "cell_type": "code",
   "execution_count": null,
   "metadata": {
    "collapsed": true
   },
   "outputs": [],
   "source": []
  },
  {
   "cell_type": "code",
   "execution_count": null,
   "metadata": {
    "collapsed": true
   },
   "outputs": [],
   "source": []
  },
  {
   "cell_type": "code",
   "execution_count": null,
   "metadata": {
    "collapsed": true
   },
   "outputs": [],
   "source": []
  },
  {
   "cell_type": "markdown",
   "metadata": {},
   "source": [
    "# Project: Behavioral Cloning\n",
    "\n",
    "\n",
    "\n",
    "\n",
    "## Outline\n",
    "In this project a car is trained using convolutional neural network (CNN) to drive autonomously inside the Udacity simulatori (autonomous mode).\n",
    "Training data is generated by simulations runs inside the simulation (training mode)\n",
    "\n",
    "## Files\n",
    "The following file were used:\n",
    "\n",
    "* model.py, python script containing the creation, training and output of the CNN model.\n",
    "* drive.py, python script for driving the car inside the simulator in autonomous mode.\n",
    "* model.h5, file containing the trained model including weights & bias.\n",
    "* video.mp4, file containing the recording of the car running inside the simulator in autonomous mode.\n",
    "* writeup_report.pdf, this report.\n",
    "* README.md, this file\n",
    "* pics/*.jpg, images of README.md file\n",
    "\n",
    "* model.ipynb, (optional) notebook script containing the code of model.py plus additional code for  training set and image pre-processing visualization.\n",
    "\n",
    "Note:   Training date-set is not provided.\n",
    "\n"
   ]
  },
  {
   "cell_type": "markdown",
   "metadata": {
    "collapsed": true
   },
   "source": [
    "##Approach\n",
    "\n",
    "To drive the car autonomously in the Udacity simulator using behavioural cloning, I have performed the following steps:\n",
    "\n",
    "#Gathering Training Data\n",
    "\n",
    "Simulator Training Data\n",
    "The Udacity simulator has a recording option which saves a simulation run. The recorded data consists of colour images (resolution 160x302x3) over time from the centre, left and right camera of the car and a CVS file driving_log.cvs. The CVS file lists the steering angle, throttle and speed of the car for centre camera images.\n",
    "The figure below shows an extract of the CVS file.\n",
    "\n",
    "\n",
    "\n",
    "\n",
    "Training-set (code lines 13-55)\n",
    "The recorded data of simulation runs were used as training data for a convolutional neural (CNN) model. Input of the CNN model were the images from the simulator and output were the steering angle of the car (to predict). I used 3 different recorded data-sets:\n",
    "\n",
    "    1) the Udacity provided data-set of track 1\n",
    "    2) a generated data-set of track 1, driving anti-clockwise and focusing on smooth turns (2 x laps)\n",
    "    3) a generated data-set of track 1, driving clock-wise (3 x laps)\n",
    "\n",
    "\n",
    "Multiple Cameras (code lines 66-104)\n",
    "In order to increase the number data-points I used all 3 camera images. Since there is only one steering angle value for the centre camera image given and I calculated the steering angle value for the left and right camera image by adding 0.25 to the steering value for the left- and subtracting 0.25 of the steering value for the right camera. These steps did increase the training-set by factor 3. The figures below present the camera images of simulation run.\n",
    "\n",
    "![processed image 1](./Picture1.jpg \"Original\")\n",
    "\n",
    "Augmentation (code lines 111-132)\n",
    "Additionally, I augmented images to increase and normalize the training-set. I used the following approach: images were flipped horizontally and the according steering value was corrected by multiplying -1.0 to the original value. This augmentation was only used for “non-straight driving” images with an absolute steering value > 0.21 which resulted in a better normalization of the distribution of the training-set.\n",
    "\n",
    "![processed image 2](./Picture2.jpg \"Original\")\n",
    "    \n",
    "Optimization (code lines 43-55)\n",
    "Furthermore, I optimized the training-set by removing “straight driving” images of the centre camera by almost 90% from the original data-set (images read from the simulation runs). Rationale for this step was that the data-set did contain too much “straight driving” images which resulted in poor autonomous driving behaviour @ the simulator. With this images removal the model did drive through the track 1 successfully.\n"
   ]
  },
  {
   "cell_type": "code",
   "execution_count": null,
   "metadata": {
    "collapsed": true
   },
   "outputs": [],
   "source": []
  },
  {
   "cell_type": "code",
   "execution_count": null,
   "metadata": {
    "collapsed": true
   },
   "outputs": [],
   "source": []
  },
  {
   "cell_type": "code",
   "execution_count": null,
   "metadata": {
    "collapsed": true
   },
   "outputs": [],
   "source": []
  }
 ],
 "metadata": {
  "anaconda-cloud": {},
  "kernelspec": {
   "display_name": "Python 3",
   "language": "python",
   "name": "python3"
  },
  "language_info": {
   "codemirror_mode": {
    "name": "ipython",
    "version": 3
   },
   "file_extension": ".py",
   "mimetype": "text/x-python",
   "name": "python",
   "nbconvert_exporter": "python",
   "pygments_lexer": "ipython3",
   "version": "3.5.2"
  },
  "widgets": {
   "state": {},
   "version": "1.1.2"
  }
 },
 "nbformat": 4,
 "nbformat_minor": 1
}
